{
 "cells": [
  {
   "cell_type": "markdown",
   "metadata": {},
   "source": [
    "# 05d Extended - Generate 2,000 OCEAN Ground Truth (Llama-3-8B)\n",
    "\n",
    "## Purpose\n",
    "Generate high-quality OCEAN personality scores for 2,000 loan application samples using Llama-3-8B.\n",
    "\n",
    "## Model Selection\n",
    "- **Selected Model**: Llama-3-8B (meta-llama/Meta-Llama-3-8B-Instruct)\n",
    "- **Provider**: novita\n",
    "\n",
    "## Expected Metrics\n",
    "- Total samples: 2,000\n",
    "- Estimated time: ~120 minutes\n",
    "- Expected cost: ~$N/A\n",
    "\n",
    "## Output Files\n",
    "- `ocean_targets_2000_llama.csv`: OCEAN scores for 2,000 samples\n",
    "- `samples_2000_with_desc_llama.csv`: Sample descriptions\n",
    "- `samples_2000_metadata_llama.csv`: Sample metadata\n",
    "- `.checkpoint_2k_ocean_llama.json`: Resume capability"
   ]
  },
  {
   "cell_type": "markdown",
   "metadata": {},
   "source": [
    "## Step 1: Import Libraries"
   ]
  },
  {
   "cell_type": "code",
   "execution_count": 1,
   "metadata": {},
   "outputs": [
    {
     "name": "stdout",
     "output_type": "stream",
     "text": [
      "Libraries imported\n"
     ]
    }
   ],
   "source": [
    "import pandas as pd\n",
    "import numpy as np\n",
    "import json\n",
    "import requests\n",
    "import time\n",
    "import os\n",
    "from datetime import datetime\n",
    "\n",
    "print('Libraries imported')"
   ]
  },
  {
   "cell_type": "markdown",
   "metadata": {},
   "source": [
    "## Step 2: Load Configuration"
   ]
  },
  {
   "cell_type": "code",
   "execution_count": 2,
   "metadata": {},
   "outputs": [
    {
     "name": "stdout",
     "output_type": "stream",
     "text": [
      "HF token loaded: hf_qObfQZg...KHaJU\n"
     ]
    }
   ],
   "source": [
    "# Load HF token\n",
    "def load_env():\n",
    "    env_dict = {}\n",
    "    try:\n",
    "        with open('../.env', 'r') as f:\n",
    "            for line in f:\n",
    "                if line.strip() and not line.startswith('#'):\n",
    "                    key, value = line.strip().split('=', 1)\n",
    "                    env_dict[key] = value\n",
    "    except:\n",
    "        print('Warning: Unable to read .env file')\n",
    "    return env_dict\n",
    "\n",
    "env_vars = load_env()\n",
    "HF_TOKEN = env_vars.get('HF_TOKEN', '')\n",
    "\n",
    "if not HF_TOKEN:\n",
    "    raise ValueError('HF_TOKEN not found in .env file!')\n",
    "\n",
    "print(f'HF token loaded: {HF_TOKEN[:10]}...{HF_TOKEN[-5:]}')"
   ]
  },
  {
   "cell_type": "code",
   "execution_count": 3,
   "metadata": {},
   "outputs": [
    {
     "name": "stdout",
     "output_type": "stream",
     "text": [
      "Model: Llama-3-8B\n",
      "Provider: novita\n",
      "Target samples: 2,000\n",
      "Random seed: 42\n"
     ]
    }
   ],
   "source": [
    "# Model configuration\n",
    "MODEL_NAME = 'meta-llama/Meta-Llama-3-8B-Instruct'\n",
    "PROVIDER = 'novita'\n",
    "DISPLAY_NAME = 'Llama-3-8B'\n",
    "\n",
    "# File paths\n",
    "DATA_FILE = '../loan_final_desc50plus_with_ocean_bge.csv'\n",
    "OUTPUT_OCEAN = '../ocean_targets_2000_llama.csv'\n",
    "OUTPUT_METADATA = '../samples_2000_metadata_llama.csv'\n",
    "CHECKPOINT_FILE = '../.checkpoint_2k_ocean_llama.json'\n",
    "\n",
    "# Parameters\n",
    "SAMPLE_SIZE = 2000\n",
    "RANDOM_STATE = 42\n",
    "\n",
    "print(f'Model: {DISPLAY_NAME}')\n",
    "print(f'Provider: {PROVIDER}')\n",
    "print(f'Target samples: {SAMPLE_SIZE:,}')\n",
    "print(f'Random seed: {RANDOM_STATE}')"
   ]
  },
  {
   "cell_type": "markdown",
   "metadata": {},
   "source": [
    "# Sample 2000 rows randomly\n",
    "print(f'\\nSampling {SAMPLE_SIZE:,} samples (random seed: {RANDOM_STATE})...')\n",
    "\n",
    "np.random.seed(RANDOM_STATE)\n",
    "df_samples = df_full.sample(n=SAMPLE_SIZE, random_state=RANDOM_STATE).reset_index(drop=True)\n",
    "\n",
    "print(f'Sampled: {len(df_samples):,} samples')\n",
    "print(f'\\nDescription statistics:')\n",
    "df_samples['desc_length'] = df_samples['desc'].str.len()\n",
    "print(f'  Min length: {df_samples[\"desc_length\"].min()}')\n",
    "print(f'  Mean length: {df_samples[\"desc_length\"].mean():.1f}')\n",
    "print(f'  Max length: {df_samples[\"desc_length\"].max()}')\n",
    "\n",
    "# Save full sampled data (including desc) for 05g to use\n",
    "SAMPLES_WITH_DESC_FILE = '../samples_2000_with_desc.csv'\n",
    "df_samples_to_save = df_samples[['desc']].copy()\n",
    "df_samples_to_save.insert(0, 'sample_id', range(len(df_samples_to_save)))\n",
    "df_samples_to_save.to_csv(SAMPLES_WITH_DESC_FILE, index=False)\n",
    "print(f'\\nSaved samples with desc to {SAMPLES_WITH_DESC_FILE}')\n",
    "\n",
    "# Save metadata\n",
    "metadata_cols = ['desc_length']\n",
    "if 'loan_amnt' in df_samples.columns:\n",
    "    metadata_cols.append('loan_amnt')\n",
    "if 'grade' in df_samples.columns:\n",
    "    metadata_cols.append('grade')\n",
    "\n",
    "df_metadata = df_samples[metadata_cols].copy()\n",
    "df_metadata.insert(0, 'sample_id', range(len(df_metadata)))\n",
    "df_metadata.to_csv(OUTPUT_METADATA, index=False)\n",
    "\n",
    "print(f'Saved metadata to {OUTPUT_METADATA}')"
   ]
  },
  {
   "cell_type": "code",
   "execution_count": 4,
   "metadata": {},
   "outputs": [
    {
     "name": "stdout",
     "output_type": "stream",
     "text": [
      "OCEAN prompt template defined\n"
     ]
    }
   ],
   "source": [
    "OCEAN_PROMPT_TEMPLATE = '''You are a psychologist specialized in the Big Five (OCEAN) personality assessment for credit behavior research.\n",
    "\n",
    "Analyze the loan applicant's text and provide personality scores for each of the Big Five traits. Base your assessment on ANY available linguistic cues, writing style, word choice, and expressed intentions in the text.\n",
    "\n",
    "Trait definitions and scoring guidelines:\n",
    "- Openness (0.0-1.0): curiosity, imagination, preference for novelty and new ideas\n",
    "  * High (0.7-1.0): words like \"learn,\" \"try new,\" \"explore,\" \"creative,\" \"open-minded,\" \"different,\" \"unique\"\n",
    "  * Medium (0.4-0.6): neutral or mixed signals\n",
    "  * Low (0.0-0.3): focus on routine, traditional, familiar, conservative language\n",
    "  \n",
    "- Conscientiousness (0.0-1.0): organization, discipline, reliability, planning, self-control\n",
    "  * High (0.7-1.0): \"planning,\" \"saving,\" \"on time,\" \"responsibility,\" \"organized,\" \"careful\"\n",
    "  * Medium (0.4-0.6): neutral or mixed signals\n",
    "  * Low (0.0-0.3): impulsive, unplanned, casual language\n",
    "  \n",
    "- Extraversion (0.0-1.0): sociability, assertiveness, energy, enthusiasm\n",
    "  * High (0.7-1.0): \"team,\" \"connect,\" \"talk,\" \"outgoing,\" \"social,\" \"people,\" \"friends\"\n",
    "  * Medium (0.4-0.6): neutral or mixed signals\n",
    "  * Low (0.0-0.3): solitary, quiet, reserved language\n",
    "  \n",
    "- Agreeableness (0.0-1.0): cooperation, empathy, kindness, trust\n",
    "  * High (0.7-1.0): \"help,\" \"care,\" \"family,\" \"support,\" \"honest,\" \"kind,\" \"together\"\n",
    "  * Medium (0.4-0.6): neutral or mixed signals\n",
    "  * Low (0.0-0.3): competitive, critical, confrontational language\n",
    "  \n",
    "- Neuroticism (0.0-1.0): emotional instability, anxiety, sensitivity to stress\n",
    "  * High (0.7-1.0): \"worry,\" \"stress,\" \"pressure,\" \"concern,\" \"can't sleep,\" \"anxious,\" \"difficult\"\n",
    "  * Medium (0.4-0.6): neutral or mixed signals\n",
    "  * Low (0.0-0.3): calm, stable, confident language\n",
    "\n",
    "IMPORTANT: You MUST provide a score between 0.0 and 1.0 for each trait based on the available text. Do NOT default to 0.5 unless you genuinely find perfectly neutral/balanced evidence. Use the full range of scores (0.0-1.0) to reflect varying degrees of each trait.\n",
    "\n",
    "Loan description:\n",
    "{description_text}\n",
    "\n",
    "Return ONLY valid JSON in this exact format:\n",
    "{{\n",
    "  \"openness\": 0.X,\n",
    "  \"conscientiousness\": 0.X,\n",
    "  \"extraversion\": 0.X,\n",
    "  \"agreeableness\": 0.X,\n",
    "  \"neuroticism\": 0.X\n",
    "}}'''\n",
    "\n",
    "print('OCEAN prompt template defined')"
   ]
  },
  {
   "cell_type": "markdown",
   "metadata": {},
   "source": [
    "## Step 4: Define API Function"
   ]
  },
  {
   "cell_type": "code",
   "execution_count": 5,
   "metadata": {},
   "outputs": [
    {
     "name": "stdout",
     "output_type": "stream",
     "text": [
      "API function defined\n"
     ]
    }
   ],
   "source": [
    "def call_llm_for_ocean_scores(description_text, model_name, provider, api_token, max_retries=3):\n",
    "    \"\"\"\n",
    "    Call HuggingFace Router API to generate OCEAN scores.\n",
    "    \n",
    "    Returns:\n",
    "        dict: OCEAN scores or None if failed\n",
    "    \"\"\"\n",
    "    prompt = OCEAN_PROMPT_TEMPLATE.format(description_text=description_text)\n",
    "    \n",
    "    api_url = 'https://router.huggingface.co/v1/chat/completions'\n",
    "    headers = {\n",
    "        'Authorization': f'Bearer {api_token}',\n",
    "        'Content-Type': 'application/json'\n",
    "    }\n",
    "    \n",
    "    payload = {\n",
    "        'messages': [{'role': 'user', 'content': prompt}],\n",
    "        'model': f'{model_name}:{provider}',\n",
    "        'stream': False,\n",
    "        'max_tokens': 200,\n",
    "        'temperature': 0.7\n",
    "    }\n",
    "    \n",
    "    for attempt in range(max_retries):\n",
    "        try:\n",
    "            response = requests.post(api_url, headers=headers, json=payload, timeout=30)\n",
    "            \n",
    "            if response.status_code == 200:\n",
    "                result = response.json()\n",
    "                if 'choices' in result and len(result['choices']) > 0:\n",
    "                    text_output = result['choices'][0].get('message', {}).get('content', '')\n",
    "                    \n",
    "                    try:\n",
    "                        # Extract JSON from response\n",
    "                        json_start = text_output.find('{')\n",
    "                        if json_start != -1:\n",
    "                            json_string = text_output[json_start:]\n",
    "                            json_end = json_string.find('}') + 1\n",
    "                            json_string = json_string[:json_end]\n",
    "                            score_dict = json.loads(json_string)\n",
    "                            \n",
    "                            # Validate all OCEAN dimensions present\n",
    "                            return_value = {}\n",
    "                            for key in ['openness', 'conscientiousness', 'extraversion', 'agreeableness', 'neuroticism']:\n",
    "                                if key in score_dict:\n",
    "                                    return_value[key] = float(score_dict[key])\n",
    "                            \n",
    "                            if len(return_value) == 5:\n",
    "                                return return_value\n",
    "                    except Exception as parse_error:\n",
    "                        pass\n",
    "                        \n",
    "            elif response.status_code == 429 and attempt < max_retries - 1:\n",
    "                # Rate limit, wait and retry\n",
    "                time.sleep(2 * (attempt + 1))\n",
    "                continue\n",
    "                \n",
    "        except Exception as e:\n",
    "            if attempt < max_retries - 1:\n",
    "                time.sleep(2)\n",
    "    \n",
    "    return None\n",
    "\n",
    "print('API function defined')"
   ]
  },
  {
   "cell_type": "markdown",
   "metadata": {},
   "source": [
    "## Step 5: Load and Sample Data"
   ]
  },
  {
   "cell_type": "code",
   "execution_count": 6,
   "metadata": {},
   "outputs": [
    {
     "name": "stdout",
     "output_type": "stream",
     "text": [
      "Loading data from ../loan_final_desc50plus_with_ocean_bge.csv...\n",
      "Total samples in dataset: 34,529\n",
      "Columns: 38\n",
      "Column \"desc\" found\n"
     ]
    }
   ],
   "source": [
    "print(f'Loading data from {DATA_FILE}...')\n",
    "df_full = pd.read_csv(DATA_FILE)\n",
    "\n",
    "print(f'Total samples in dataset: {len(df_full):,}')\n",
    "print(f'Columns: {df_full.shape[1]}')\n",
    "\n",
    "# Check for required column\n",
    "if 'desc' not in df_full.columns:\n",
    "    raise ValueError('Column \"desc\" not found in dataset!')\n",
    "\n",
    "print('Column \"desc\" found')"
   ]
  },
  {
   "cell_type": "code",
   "execution_count": 7,
   "metadata": {},
   "outputs": [
    {
     "name": "stdout",
     "output_type": "stream",
     "text": [
      "\n",
      "Sampling 2,000 samples (random seed: 42)...\n",
      "Sampled: 2,000 samples\n",
      "\n",
      "Description statistics:\n",
      "  Min length: 232\n",
      "  Mean length: 511.5\n",
      "  Max length: 3976\n",
      "\n",
      "Saved metadata to ../samples_2000_metadata_llama.csv\n"
     ]
    }
   ],
   "source": [
    "# Sample 2000 rows randomly\n",
    "print(f'\\nSampling {SAMPLE_SIZE:,} samples (random seed: {RANDOM_STATE})...')\n",
    "\n",
    "np.random.seed(RANDOM_STATE)\n",
    "df_samples = df_full.sample(n=SAMPLE_SIZE, random_state=RANDOM_STATE).reset_index(drop=True)\n",
    "\n",
    "print(f'Sampled: {len(df_samples):,} samples')\n",
    "print(f'\\nDescription statistics:')\n",
    "df_samples['desc_length'] = df_samples['desc'].str.len()\n",
    "print(f'  Min length: {df_samples[\"desc_length\"].min()}')\n",
    "print(f'  Mean length: {df_samples[\"desc_length\"].mean():.1f}')\n",
    "print(f'  Max length: {df_samples[\"desc_length\"].max()}')\n",
    "\n",
    "# Save metadata\n",
    "metadata_cols = ['desc_length']\n",
    "if 'loan_amnt' in df_samples.columns:\n",
    "    metadata_cols.append('loan_amnt')\n",
    "if 'grade' in df_samples.columns:\n",
    "    metadata_cols.append('grade')\n",
    "\n",
    "df_metadata = df_samples[metadata_cols].copy()\n",
    "df_metadata.insert(0, 'sample_id', range(len(df_metadata)))\n",
    "df_metadata.to_csv(OUTPUT_METADATA, index=False)\n",
    "\n",
    "print(f'\\nSaved metadata to {OUTPUT_METADATA}')"
   ]
  },
  {
   "cell_type": "markdown",
   "metadata": {},
   "source": [
    "## Step 6: Load Checkpoint (if exists)"
   ]
  },
  {
   "cell_type": "code",
   "execution_count": 8,
   "metadata": {},
   "outputs": [
    {
     "name": "stdout",
     "output_type": "stream",
     "text": [
      "No checkpoint found, starting from scratch\n"
     ]
    }
   ],
   "source": [
    "if os.path.exists(CHECKPOINT_FILE):\n",
    "    with open(CHECKPOINT_FILE, 'r') as f:\n",
    "        checkpoint = json.load(f)\n",
    "    \n",
    "    print(f'Checkpoint loaded: {checkpoint[\"processed_count\"]}/{checkpoint[\"total_count\"]}')\n",
    "    ocean_scores = checkpoint['ocean_scores']\n",
    "    start_idx = checkpoint['processed_count']\n",
    "    success_count = checkpoint['success_count']\n",
    "    failure_count = checkpoint['failure_count']\n",
    "    \n",
    "else:\n",
    "    print('No checkpoint found, starting from scratch')\n",
    "    ocean_scores = []\n",
    "    start_idx = 0\n",
    "    success_count = 0\n",
    "    failure_count = 0"
   ]
  },
  {
   "cell_type": "markdown",
   "metadata": {},
   "source": [
    "## Step 7: Generate OCEAN Scores\n",
    "\n",
    "**This will take approximately 76 minutes (19 min per 500 samples × 4)**\n",
    "\n",
    "Progress is saved every 50 samples, so you can resume if interrupted."
   ]
  },
  {
   "cell_type": "code",
   "execution_count": 9,
   "metadata": {},
   "outputs": [
    {
     "name": "stdout",
     "output_type": "stream",
     "text": [
      "================================================================================\n",
      "Processing Llama-3-8B for 2,000 samples\n",
      "================================================================================\n",
      "Total samples: 2,000\n",
      "Starting from: 0\n",
      "Estimated time: ~120.0 minutes\n",
      "================================================================================\n",
      "50/2000 (2.5%) | Success: 50 (100.0%) | Failed: 0 | Rate: 0.28 samples/sec | ETA: 117.1 min\n",
      "100/2000 (5.0%) | Success: 99 (99.0%) | Failed: 1 | Rate: 0.26 samples/sec | ETA: 121.9 min\n",
      "150/2000 (7.5%) | Success: 149 (99.3%) | Failed: 1 | Rate: 0.26 samples/sec | ETA: 119.1 min\n",
      "200/2000 (10.0%) | Success: 199 (99.5%) | Failed: 1 | Rate: 0.26 samples/sec | ETA: 115.1 min\n",
      "250/2000 (12.5%) | Success: 248 (99.2%) | Failed: 2 | Rate: 0.26 samples/sec | ETA: 112.5 min\n",
      "300/2000 (15.0%) | Success: 298 (99.3%) | Failed: 2 | Rate: 0.26 samples/sec | ETA: 107.2 min\n",
      "350/2000 (17.5%) | Success: 348 (99.4%) | Failed: 2 | Rate: 0.26 samples/sec | ETA: 104.1 min\n",
      "400/2000 (20.0%) | Success: 398 (99.5%) | Failed: 2 | Rate: 0.27 samples/sec | ETA: 100.0 min\n",
      "450/2000 (22.5%) | Success: 448 (99.6%) | Failed: 2 | Rate: 0.27 samples/sec | ETA: 97.1 min\n",
      "500/2000 (25.0%) | Success: 497 (99.4%) | Failed: 3 | Rate: 0.26 samples/sec | ETA: 95.1 min\n",
      "550/2000 (27.5%) | Success: 547 (99.5%) | Failed: 3 | Rate: 0.26 samples/sec | ETA: 91.7 min\n",
      "600/2000 (30.0%) | Success: 597 (99.5%) | Failed: 3 | Rate: 0.26 samples/sec | ETA: 88.7 min\n",
      "650/2000 (32.5%) | Success: 646 (99.4%) | Failed: 4 | Rate: 0.26 samples/sec | ETA: 85.5 min\n",
      "700/2000 (35.0%) | Success: 696 (99.4%) | Failed: 4 | Rate: 0.26 samples/sec | ETA: 82.3 min\n",
      "750/2000 (37.5%) | Success: 746 (99.5%) | Failed: 4 | Rate: 0.26 samples/sec | ETA: 79.2 min\n",
      "800/2000 (40.0%) | Success: 796 (99.5%) | Failed: 4 | Rate: 0.26 samples/sec | ETA: 75.9 min\n",
      "850/2000 (42.5%) | Success: 846 (99.5%) | Failed: 4 | Rate: 0.26 samples/sec | ETA: 73.0 min\n",
      "900/2000 (45.0%) | Success: 896 (99.6%) | Failed: 4 | Rate: 0.26 samples/sec | ETA: 70.2 min\n",
      "950/2000 (47.5%) | Success: 946 (99.6%) | Failed: 4 | Rate: 0.26 samples/sec | ETA: 66.8 min\n",
      "1000/2000 (50.0%) | Success: 995 (99.5%) | Failed: 5 | Rate: 0.26 samples/sec | ETA: 63.4 min\n",
      "1050/2000 (52.5%) | Success: 1045 (99.5%) | Failed: 5 | Rate: 0.26 samples/sec | ETA: 60.1 min\n",
      "1100/2000 (55.0%) | Success: 1095 (99.5%) | Failed: 5 | Rate: 0.26 samples/sec | ETA: 56.8 min\n",
      "1150/2000 (57.5%) | Success: 1145 (99.6%) | Failed: 5 | Rate: 0.26 samples/sec | ETA: 53.8 min\n",
      "1200/2000 (60.0%) | Success: 1195 (99.6%) | Failed: 5 | Rate: 0.26 samples/sec | ETA: 50.4 min\n",
      "1250/2000 (62.5%) | Success: 1244 (99.5%) | Failed: 6 | Rate: 0.26 samples/sec | ETA: 47.3 min\n",
      "1300/2000 (65.0%) | Success: 1293 (99.5%) | Failed: 7 | Rate: 0.26 samples/sec | ETA: 44.4 min\n",
      "1350/2000 (67.5%) | Success: 1343 (99.5%) | Failed: 7 | Rate: 0.26 samples/sec | ETA: 41.1 min\n",
      "1400/2000 (70.0%) | Success: 1393 (99.5%) | Failed: 7 | Rate: 0.26 samples/sec | ETA: 38.3 min\n",
      "1450/2000 (72.5%) | Success: 1443 (99.5%) | Failed: 7 | Rate: 0.26 samples/sec | ETA: 35.1 min\n",
      "1500/2000 (75.0%) | Success: 1492 (99.5%) | Failed: 8 | Rate: 0.26 samples/sec | ETA: 32.0 min\n",
      "1550/2000 (77.5%) | Success: 1541 (99.4%) | Failed: 9 | Rate: 0.26 samples/sec | ETA: 28.8 min\n",
      "1600/2000 (80.0%) | Success: 1590 (99.4%) | Failed: 10 | Rate: 0.26 samples/sec | ETA: 25.6 min\n",
      "1650/2000 (82.5%) | Success: 1640 (99.4%) | Failed: 10 | Rate: 0.26 samples/sec | ETA: 22.4 min\n",
      "1700/2000 (85.0%) | Success: 1690 (99.4%) | Failed: 10 | Rate: 0.26 samples/sec | ETA: 19.2 min\n",
      "1750/2000 (87.5%) | Success: 1738 (99.3%) | Failed: 12 | Rate: 0.26 samples/sec | ETA: 16.1 min\n",
      "1800/2000 (90.0%) | Success: 1788 (99.3%) | Failed: 12 | Rate: 0.26 samples/sec | ETA: 12.9 min\n",
      "1850/2000 (92.5%) | Success: 1838 (99.4%) | Failed: 12 | Rate: 0.26 samples/sec | ETA: 9.7 min\n",
      "1900/2000 (95.0%) | Success: 1888 (99.4%) | Failed: 12 | Rate: 0.26 samples/sec | ETA: 6.4 min\n",
      "1950/2000 (97.5%) | Success: 1938 (99.4%) | Failed: 12 | Rate: 0.26 samples/sec | ETA: 3.2 min\n",
      "2000/2000 (100.0%) | Success: 1988 (99.4%) | Failed: 12 | Rate: 0.26 samples/sec | ETA: 0.0 min\n",
      "\n",
      "COMPLETE: 128.8 minutes\n",
      "Success: 1988/2000 (99.4%)\n",
      "Failed: 12/2000 (0.6%)\n"
     ]
    }
   ],
   "source": [
    "print('=' * 80)\n",
    "print(f'Processing {DISPLAY_NAME} for {SAMPLE_SIZE:,} samples')\n",
    "print('=' * 80)\n",
    "print(f'Total samples: {len(df_samples):,}')\n",
    "print(f'Starting from: {start_idx}')\n",
    "print(f'Estimated time: ~{(SAMPLE_SIZE - start_idx) / 500 * 30:.1f} minutes')\n",
    "print('=' * 80)\n",
    "\n",
    "start_time = time.time()\n",
    "\n",
    "for idx in range(start_idx, len(df_samples)):\n",
    "    row = df_samples.iloc[idx]\n",
    "    description = row.get('desc', '')\n",
    "    \n",
    "    # Skip very short descriptions\n",
    "    if len(description) < 10:\n",
    "        ocean_scores.append(None)\n",
    "        failure_count += 1\n",
    "        continue\n",
    "    \n",
    "    # Call LLM\n",
    "    ocean_score = call_llm_for_ocean_scores(\n",
    "        description, \n",
    "        MODEL_NAME, \n",
    "        PROVIDER, \n",
    "        HF_TOKEN, \n",
    "        max_retries=3\n",
    "    )\n",
    "    \n",
    "    if ocean_score:\n",
    "        ocean_scores.append(ocean_score)\n",
    "        success_count += 1\n",
    "    else:\n",
    "        ocean_scores.append(None)\n",
    "        failure_count += 1\n",
    "    \n",
    "    # Progress reporting and checkpointing every 50 samples\n",
    "    if (idx + 1) % 50 == 0 or (idx + 1) == len(df_samples):\n",
    "        elapsed = time.time() - start_time\n",
    "        rate = (idx + 1 - start_idx) / elapsed if elapsed > 0 else 0\n",
    "        eta = (len(df_samples) - (idx + 1)) / rate / 60 if rate > 0 else 0\n",
    "        \n",
    "        print(f'{idx + 1}/{len(df_samples)} ({(idx+1)/len(df_samples)*100:.1f}%) | '\n",
    "              f'Success: {success_count} ({success_count/(idx+1)*100:.1f}%) | '\n",
    "              f'Failed: {failure_count} | '\n",
    "              f'Rate: {rate:.2f} samples/sec | '\n",
    "              f'ETA: {eta:.1f} min')\n",
    "        \n",
    "        # Save checkpoint\n",
    "        checkpoint = {\n",
    "            'model_name': MODEL_NAME,\n",
    "            'provider': PROVIDER,\n",
    "            'display_name': DISPLAY_NAME,\n",
    "            'total_count': len(df_samples),\n",
    "            'processed_count': idx + 1,\n",
    "            'success_count': success_count,\n",
    "            'failure_count': failure_count,\n",
    "            'ocean_scores': ocean_scores,\n",
    "            'last_update': datetime.now().isoformat()\n",
    "        }\n",
    "        with open(CHECKPOINT_FILE, 'w') as f:\n",
    "            json.dump(checkpoint, f, indent=2)\n",
    "    \n",
    "    # Rate limiting\n",
    "    time.sleep(1)\n",
    "\n",
    "total_time = time.time() - start_time\n",
    "print(f'\\nCOMPLETE: {total_time/60:.1f} minutes')\n",
    "print(f'Success: {success_count}/{len(df_samples)} ({success_count/len(df_samples)*100:.1f}%)')\n",
    "print(f'Failed: {failure_count}/{len(df_samples)} ({failure_count/len(df_samples)*100:.1f}%)')"
   ]
  },
  {
   "cell_type": "markdown",
   "metadata": {},
   "source": [
    "## Step 8: Save Final Results"
   ]
  },
  {
   "cell_type": "code",
   "execution_count": 10,
   "metadata": {},
   "outputs": [
    {
     "name": "stdout",
     "output_type": "stream",
     "text": [
      "Results saved: ../ocean_targets_2000_llama.csv\n",
      "  Total rows: 2000\n",
      "  Valid rows: 1988\n",
      "\n",
      "Checkpoint file removed\n"
     ]
    }
   ],
   "source": [
    "# Create DataFrame with OCEAN scores\n",
    "data_list = []\n",
    "for idx, score in enumerate(ocean_scores):\n",
    "    if score:\n",
    "        data_list.append({'sample_id': idx, **score})\n",
    "    else:\n",
    "        data_list.append({\n",
    "            'sample_id': idx,\n",
    "            'openness': None,\n",
    "            'conscientiousness': None,\n",
    "            'extraversion': None,\n",
    "            'agreeableness': None,\n",
    "            'neuroticism': None\n",
    "        })\n",
    "\n",
    "df_ocean = pd.DataFrame(data_list)\n",
    "\n",
    "# Save OCEAN targets\n",
    "df_ocean.to_csv(OUTPUT_OCEAN, index=False)\n",
    "print(f'Results saved: {OUTPUT_OCEAN}')\n",
    "print(f'  Total rows: {len(df_ocean)}')\n",
    "print(f'  Valid rows: {df_ocean[\"openness\"].notna().sum()}')\n",
    "\n",
    "# Clean up checkpoint\n",
    "if os.path.exists(CHECKPOINT_FILE):\n",
    "    os.remove(CHECKPOINT_FILE)\n",
    "    print(f'\\nCheckpoint file removed')"
   ]
  },
  {
   "cell_type": "markdown",
   "metadata": {},
   "source": [
    "## Step 9: Display Statistics"
   ]
  },
  {
   "cell_type": "code",
   "execution_count": 11,
   "metadata": {},
   "outputs": [
    {
     "name": "stdout",
     "output_type": "stream",
     "text": [
      "================================================================================\n",
      "OCEAN GROUND TRUTH STATISTICS (2,000 samples)\n",
      "================================================================================\n",
      "          openness  conscientiousness  extraversion  agreeableness   \n",
      "count  1988.000000        1988.000000   1988.000000    1988.000000  \\\n",
      "mean      0.395835           0.656791      0.270714       0.668073   \n",
      "std       0.109252           0.134812      0.112648       0.124434   \n",
      "min       0.000000           0.000000      0.000000       0.000000   \n",
      "25%       0.300000           0.600000      0.200000       0.600000   \n",
      "50%       0.400000           0.700000      0.300000       0.700000   \n",
      "75%       0.400000           0.800000      0.400000       0.700000   \n",
      "max       0.800000           0.900000      0.800000       0.930000   \n",
      "\n",
      "       neuroticism  \n",
      "count  1988.000000  \n",
      "mean      0.187394  \n",
      "std       0.201995  \n",
      "min       0.000000  \n",
      "25%       0.000000  \n",
      "50%       0.100000  \n",
      "75%       0.200000  \n",
      "max       0.900000  \n",
      "\n",
      "================================================================================\n",
      "SUMMARY\n",
      "================================================================================\n",
      "Model: Llama-3-8B\n",
      "Total samples: 2,000\n",
      "Valid samples: 1,988 (99.4%)\n",
      "Processing time: 128.8 minutes\n",
      "Rate: 15.5 samples/minute\n",
      "================================================================================\n",
      "\n",
      "ALL DONE! Ready for 05g model training.\n"
     ]
    }
   ],
   "source": [
    "print('=' * 80)\n",
    "print('OCEAN GROUND TRUTH STATISTICS (2,000 samples)')\n",
    "print('=' * 80)\n",
    "\n",
    "ocean_cols = ['openness', 'conscientiousness', 'extraversion', 'agreeableness', 'neuroticism']\n",
    "print(df_ocean[ocean_cols].describe())\n",
    "\n",
    "print('\\n' + '=' * 80)\n",
    "print('SUMMARY')\n",
    "print('=' * 80)\n",
    "print(f'Model: {DISPLAY_NAME}')\n",
    "print(f'Total samples: {len(df_ocean):,}')\n",
    "print(f'Valid samples: {df_ocean[\"openness\"].notna().sum():,} ({df_ocean[\"openness\"].notna().sum()/len(df_ocean)*100:.1f}%)')\n",
    "print(f'Processing time: {total_time/60:.1f} minutes')\n",
    "print(f'Rate: {len(df_ocean)/(total_time/60):.1f} samples/minute')\n",
    "print('=' * 80)\n",
    "\n",
    "print('\\nALL DONE! Ready for 05g model training.')"
   ]
  },
  {
   "cell_type": "markdown",
   "metadata": {},
   "source": [
    "## Next Steps\n",
    "\n",
    "1. Verify the generated OCEAN scores look reasonable\n",
    "2. Use `ocean_targets_2000.csv` in the 05g training notebook\n",
    "3. Extract BGE embeddings for these 2,000 samples\n",
    "4. Train ElasticNet, Random Forest, and Gradient Boosting models\n",
    "5. Compare performance with 500-sample baseline"
   ]
  }
 ],
 "metadata": {
  "kernelspec": {
   "display_name": "Python 3",
   "language": "python",
   "name": "python3"
  },
  "language_info": {
   "codemirror_mode": {
    "name": "ipython",
    "version": 3
   },
   "file_extension": ".py",
   "mimetype": "text/x-python",
   "name": "python",
   "nbconvert_exporter": "python",
   "pygments_lexer": "ipython3",
   "version": "3.11.3"
  }
 },
 "nbformat": 4,
 "nbformat_minor": 4
}
