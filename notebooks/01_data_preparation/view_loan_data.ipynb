{
 "cells": [
  {
   "cell_type": "markdown",
   "metadata": {},
   "source": [
    "# Loan Data Viewer - 文本变量分析\n",
    "分析 loan.csv 中的文本类型变量，找出适合做语义分析的长文本字段"
   ]
  },
  {
   "cell_type": "code",
   "execution_count": null,
   "metadata": {},
   "outputs": [],
   "source": "import pandas as pd\n\n# 加载数据\ndf = pd.read_csv('../../data/loan.csv')\n\nprint(f\"数据集总行数: {len(df):,}\")\nprint(f\"数据集总列数: {len(df.columns)}\")\n\n# 识别所有文本类型的变量（categorical variables）\ncategorical_columns = df.select_dtypes(include=['object']).columns.tolist()\n\nprint(f\"\\n找到 {len(categorical_columns)} 个文本类型的变量\")"
  },
  {
   "cell_type": "code",
   "execution_count": null,
   "metadata": {},
   "outputs": [],
   "source": [
    "# ============================================================================\n",
    "# 文本长度分析 - 找出适合做语义分析的长文本变量\n",
    "# ============================================================================\n",
    "\n",
    "print(\"=\" * 80)\n",
    "print(\"文本变量长度分析 - 找出适合做语义分析的变量\")\n",
    "print(\"=\" * 80)\n",
    "\n",
    "text_length_stats = []\n",
    "\n",
    "for col in categorical_columns:\n",
    "    # 计算非空文本的长度\n",
    "    text_lengths = df[col].dropna().astype(str).str.len()\n",
    "    \n",
    "    if len(text_lengths) > 0:\n",
    "        stats = {\n",
    "            '变量名': col,\n",
    "            '平均长度': round(text_lengths.mean(), 2),\n",
    "            '最大长度': text_lengths.max(),\n",
    "            '中位数长度': text_lengths.median(),\n",
    "            '非空值数量': f\"{len(text_lengths):,}\"\n",
    "        }\n",
    "        text_length_stats.append(stats)\n",
    "\n",
    "# 创建 DataFrame 并按平均长度排序\n",
    "length_df = pd.DataFrame(text_length_stats)\n",
    "length_df = length_df.sort_values('平均长度', ascending=False)\n",
    "\n",
    "print(\"\\n所有文本变量按平均长度排序:\")\n",
    "print(length_df.to_string(index=False))\n",
    "\n",
    "# 找出平均长度超过 50 字符的变量（可能适合语义分析）\n",
    "long_text_vars = length_df[length_df['平均长度'] > 50]\n",
    "print(f\"\\n\\n{'='*80}\")\n",
    "print(f\"找到 {len(long_text_vars)} 个平均长度超过 50 字符的变量（适合做语义分析）:\")\n",
    "print(\"=\"*80)\n",
    "if len(long_text_vars) > 0:\n",
    "    print(long_text_vars.to_string(index=False))\n",
    "else:\n",
    "    print(\"没有找到平均长度超过 50 字符的变量\")"
   ]
  },
  {
   "cell_type": "code",
   "execution_count": null,
   "metadata": {},
   "outputs": [],
   "source": [
    "# ============================================================================\n",
    "# 显示长文本变量的样本内容\n",
    "# ============================================================================\n",
    "\n",
    "print(\"=\" * 80)\n",
    "print(\"长文本变量的样本内容\")\n",
    "print(\"=\" * 80)\n",
    "\n",
    "# 选择平均长度最长的前5个变量\n",
    "top_long_vars = length_df.head(5)['变量名'].tolist()\n",
    "\n",
    "for col in top_long_vars:\n",
    "    print(f\"\\n\\n{'='*80}\")\n",
    "    print(f\"变量: {col}\")\n",
    "    avg_len = length_df[length_df['变量名'] == col]['平均长度'].values[0]\n",
    "    print(f\"平均长度: {avg_len} 字符\")\n",
    "    print(\"=\"*80)\n",
    "    \n",
    "    # 获取非空样本\n",
    "    samples = df[col].dropna()\n",
    "    \n",
    "    if len(samples) > 0:\n",
    "        # 显示前5个样本\n",
    "        print(f\"\\n显示 5 个样本 (共有 {len(samples):,} 个非空值):\\n\")\n",
    "        for i, sample in enumerate(samples.head(5), 1):\n",
    "            sample_str = str(sample)\n",
    "            print(f\"样本 {i}:\")\n",
    "            # 如果文本太长，只显示前200字符\n",
    "            if len(sample_str) > 200:\n",
    "                print(f\"{sample_str[:200]}...\")\n",
    "            else:\n",
    "                print(f\"{sample_str}\")\n",
    "            print(f\"(长度: {len(sample_str)} 字符)\")\n",
    "            print(\"-\" * 80)\n",
    "    else:\n",
    "        print(\"没有找到非空样本\")"
   ]
  },
  {
   "cell_type": "code",
   "execution_count": null,
   "metadata": {},
   "outputs": [],
   "source": [
    "# ============================================================================\n",
    "# 显示前 300 行的所有 categorical 变量数据\n",
    "# ============================================================================\n",
    "\n",
    "df_categorical = df[categorical_columns].head(300)\n",
    "\n",
    "print(f\"显示前 300 行的 {len(categorical_columns)} 个 categorical 变量\")\n",
    "print(f\"数据形状: {df_categorical.shape}\")\n",
    "print()\n",
    "\n",
    "df_categorical"
   ]
  }
 ],
 "metadata": {
  "kernelspec": {
   "display_name": "Python 3",
   "language": "python",
   "name": "python3"
  },
  "language_info": {
   "codemirror_mode": {
    "name": "ipython",
    "version": 3
   },
   "file_extension": ".py",
   "mimetype": "text/x-python",
   "name": "python",
   "nbconvert_exporter": "python",
   "pygments_lexer": "ipython3",
   "version": "3.8.0"
  }
 },
 "nbformat": 4,
 "nbformat_minor": 4
}