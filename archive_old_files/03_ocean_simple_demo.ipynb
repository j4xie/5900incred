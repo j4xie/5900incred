{
 "cells": [
  {
   "cell_type": "markdown",
   "metadata": {},
   "source": [
    "# OCEAN Features: Simple Demo (Using Existing Categorical Features)\n",
    "\n",
    "This notebook demonstrates OCEAN scoring using **only existing categorical features** - no free text required.\n",
    "\n",
    "**Input Features**:\n",
    "- `term`, `grade`, `sub_grade`, `emp_length`, `home_ownership`\n",
    "- `verification_status`, `purpose`, `application_type`\n",
    "\n",
    "**Output**: 5 OCEAN dimensions (0-1 scale)"
   ]
  },
  {
   "cell_type": "code",
   "execution_count": null,
   "metadata": {},
   "outputs": [],
   "source": [
    "import sys\n",
    "sys.path.append('..')\n",
    "\n",
    "import pandas as pd\n",
    "import numpy as np\n",
    "import matplotlib.pyplot as plt\n",
    "import seaborn as sns\n",
    "import kagglehub\n",
    "import warnings\n",
    "warnings.filterwarnings('ignore')\n",
    "\n",
    "from text_features.personality_simple import SimplifiedOceanScorer, build_borrower_profile, OCEAN_DIMS\n",
    "from utils.seed import set_seed\n",
    "\n",
    "set_seed(42)\n",
    "sns.set_style('whitegrid')"
   ]
  },
  {
   "cell_type": "markdown",
   "metadata": {},
   "source": [
    "## 1. Load Data"
   ]
  },
  {
   "cell_type": "code",
   "execution_count": null,
   "metadata": {},
   "outputs": [],
   "source": [
    "# Load data\n",
    "path = kagglehub.dataset_download(\"ethon0426/lending-club-20072020q1\")\n",
    "file_path = path + \"/Loan_status_2007-2020Q3.gzip\"\n",
    "\n",
    "# Use 5k samples for quick demo\n",
    "ROW_LIMIT = 5000\n",
    "\n",
    "df = pd.read_csv(file_path, nrows=ROW_LIMIT, low_memory=False, compression=\"infer\")\n",
    "\n",
    "# Prepare target\n",
    "df = df[df['loan_status'].isin([\"Fully Paid\", \"Charged Off\"])].copy()\n",
    "df['target'] = (df['loan_status'] == \"Charged Off\").astype(int)\n",
    "\n",
    "print(f\"Dataset: {len(df)} rows\")\n",
    "print(f\"Default rate: {df['target'].mean():.2%}\")\n",
    "print(f\"\\nColumns: {df.columns.tolist()[:20]}...\")"
   ]
  },
  {
   "cell_type": "markdown",
   "metadata": {},
   "source": [
    "## 2. Check Available Categorical Features"
   ]
  },
  {
   "cell_type": "code",
   "execution_count": null,
   "metadata": {},
   "outputs": [],
   "source": [
    "# Features we'll use for OCEAN scoring\n",
    "text_features = [\n",
    "    \"term\", \"grade\", \"sub_grade\", \"emp_length\", \"home_ownership\",\n",
    "    \"verification_status\", \"purpose\", \"application_type\"\n",
    "]\n",
    "\n",
    "available = [f for f in text_features if f in df.columns]\n",
    "print(f\"Available features: {available}\\n\")\n",
    "\n",
    "# Check coverage\n",
    "for feat in available:\n",
    "    non_null = df[feat].notna().sum()\n",
    "    coverage = non_null / len(df) * 100\n",
    "    n_unique = df[feat].nunique()\n",
    "    print(f\"{feat:25s}: {coverage:5.1f}% coverage, {n_unique:3d} unique values\")"
   ]
  },
  {
   "cell_type": "markdown",
   "metadata": {},
   "source": [
    "## 3. Build Borrower Profiles (Test Function)"
   ]
  },
  {
   "cell_type": "code",
   "execution_count": null,
   "metadata": {},
   "outputs": [],
   "source": [
    "# Test profile building on 5 samples\n",
    "print(\"Sample Borrower Profiles:\\n\")\n",
    "\n",
    "for idx in range(5):\n",
    "    row = df.iloc[idx]\n",
    "    profile = build_borrower_profile(row)\n",
    "    print(f\"Sample {idx+1}:\")\n",
    "    print(f\"  {profile}\")\n",
    "    print(f\"  Default: {row['target']}\")\n",
    "    print()"
   ]
  },
  {
   "cell_type": "markdown",
   "metadata": {},
   "source": [
    "## 4. Initialize OCEAN Scorer (Offline Mode)"
   ]
  },
  {
   "cell_type": "code",
   "execution_count": null,
   "metadata": {},
   "outputs": [],
   "source": [
    "# Start in offline mode (deterministic, no API calls)\n",
    "scorer = SimplifiedOceanScorer(\n",
    "    cache_dir=\"../artifacts/persona_cache_simple\",\n",
    "    offline_mode=True  # Set to False to enable OpenAI API\n",
    ")\n",
    "\n",
    "print(\"SimplifiedOceanScorer initialized (offline mode)\")\n",
    "print(f\"Cache directory: {scorer.cache_dir}\")"
   ]
  },
  {
   "cell_type": "markdown",
   "metadata": {},
   "source": [
    "## 5. Score Single Borrower (Test)"
   ]
  },
  {
   "cell_type": "code",
   "execution_count": null,
   "metadata": {},
   "outputs": [],
   "source": [
    "# Test on first row\n",
    "test_row = df.iloc[0]\n",
    "profile = build_borrower_profile(test_row)\n",
    "\n",
    "print(\"Test Borrower Profile:\")\n",
    "print(profile)\n",
    "print()\n",
    "\n",
    "scores = scorer.score_row(test_row)\n",
    "\n",
    "print(\"OCEAN Scores:\")\n",
    "for dim, score in scores.items():\n",
    "    print(f\"  {dim:20s}: {score:.3f}\")"
   ]
  },
  {
   "cell_type": "markdown",
   "metadata": {},
   "source": [
    "## 6. Batch Scoring (Full Dataset)"
   ]
  },
  {
   "cell_type": "code",
   "execution_count": null,
   "metadata": {},
   "outputs": [],
   "source": [
    "# Score all borrowers\n",
    "print(f\"Scoring {len(df)} borrowers...\\n\")\n",
    "\n",
    "ocean_scores = scorer.score_batch(df, rate_limit_delay=0.5)\n",
    "\n",
    "# Convert to DataFrame\n",
    "ocean_df = pd.DataFrame(ocean_scores)\n",
    "\n",
    "print(f\"\\nScoring complete!\")\n",
    "print(f\"Stats: {scorer.get_stats()}\")\n",
    "print(f\"\\nOCEAN scores preview:\")\n",
    "print(ocean_df.head(10))"
   ]
  },
  {
   "cell_type": "code",
   "execution_count": null,
   "metadata": {},
   "outputs": [],
   "source": [
    "# Add to main dataframe\n",
    "for dim in OCEAN_DIMS:\n",
    "    df[dim] = ocean_df[dim]\n",
    "\n",
    "print(\"OCEAN features added to dataset\")\n",
    "print(f\"\\nDescriptive statistics:\")\n",
    "print(df[OCEAN_DIMS].describe())"
   ]
  },
  {
   "cell_type": "markdown",
   "metadata": {},
   "source": [
    "## 7. Visualize OCEAN Distributions"
   ]
  },
  {
   "cell_type": "code",
   "execution_count": null,
   "metadata": {},
   "outputs": [],
   "source": [
    "# Distribution plots\n",
    "fig, axes = plt.subplots(2, 3, figsize=(15, 10))\n",
    "axes = axes.flatten()\n",
    "\n",
    "for i, dim in enumerate(OCEAN_DIMS):\n",
    "    axes[i].hist(df[dim], bins=30, edgecolor='black', alpha=0.7, color='steelblue')\n",
    "    axes[i].set_xlabel(dim.capitalize())\n",
    "    axes[i].set_ylabel('Frequency')\n",
    "    axes[i].set_title(f'{dim.capitalize()} Distribution')\n",
    "    axes[i].axvline(df[dim].mean(), color='red', linestyle='--', linewidth=2, \n",
    "                    label=f'Mean: {df[dim].mean():.2f}')\n",
    "    axes[i].legend()\n",
    "\n",
    "fig.delaxes(axes[5])\n",
    "plt.tight_layout()\n",
    "plt.savefig('../artifacts/results/ocean_distributions_simple.png', dpi=150)\n",
    "plt.show()"
   ]
  },
  {
   "cell_type": "markdown",
   "metadata": {},
   "source": [
    "## 8. OCEAN vs Default (Quick Analysis)"
   ]
  },
  {
   "cell_type": "code",
   "execution_count": null,
   "metadata": {},
   "outputs": [],
   "source": [
    "# Compare OCEAN scores between defaulted and fully paid\n",
    "ocean_by_target = df.groupby('target')[OCEAN_DIMS].mean()\n",
    "\n",
    "print(\"OCEAN Scores by Default Status:\\n\")\n",
    "print(ocean_by_target)\n",
    "print(\"\\nDifference (Charged Off - Fully Paid):\")\n",
    "print(ocean_by_target.loc[1] - ocean_by_target.loc[0])"
   ]
  },
  {
   "cell_type": "code",
   "execution_count": null,
   "metadata": {},
   "outputs": [],
   "source": [
    "# Visualize differences\n",
    "fig, ax = plt.subplots(figsize=(10, 6))\n",
    "\n",
    "x = np.arange(len(OCEAN_DIMS))\n",
    "width = 0.35\n",
    "\n",
    "ax.bar(x - width/2, ocean_by_target.loc[0], width, label='Fully Paid', alpha=0.8)\n",
    "ax.bar(x + width/2, ocean_by_target.loc[1], width, label='Charged Off', alpha=0.8)\n",
    "\n",
    "ax.set_xlabel('OCEAN Dimension')\n",
    "ax.set_ylabel('Mean Score')\n",
    "ax.set_title('OCEAN Scores: Fully Paid vs Charged Off')\n",
    "ax.set_xticks(x)\n",
    "ax.set_xticklabels([d.capitalize() for d in OCEAN_DIMS], rotation=45)\n",
    "ax.legend()\n",
    "ax.grid(True, axis='y')\n",
    "\n",
    "plt.tight_layout()\n",
    "plt.savefig('../artifacts/results/ocean_by_default_simple.png', dpi=150)\n",
    "plt.show()"
   ]
  },
  {
   "cell_type": "markdown",
   "metadata": {},
   "source": [
    "## 9. Correlation with Credit Grade"
   ]
  },
  {
   "cell_type": "code",
   "execution_count": null,
   "metadata": {},
   "outputs": [],
   "source": [
    "# Check if OCEAN varies by credit grade\n",
    "if 'grade' in df.columns:\n",
    "    ocean_by_grade = df.groupby('grade')[OCEAN_DIMS].mean()\n",
    "    \n",
    "    print(\"OCEAN Scores by Credit Grade:\\n\")\n",
    "    print(ocean_by_grade)\n",
    "    \n",
    "    # Heatmap\n",
    "    plt.figure(figsize=(10, 6))\n",
    "    sns.heatmap(ocean_by_grade.T, annot=True, fmt='.2f', cmap='RdYlGn', center=0.5)\n",
    "    plt.title('OCEAN Scores by Credit Grade')\n",
    "    plt.xlabel('Credit Grade')\n",
    "    plt.ylabel('OCEAN Dimension')\n",
    "    plt.tight_layout()\n",
    "    plt.savefig('../artifacts/results/ocean_by_grade_simple.png', dpi=150)\n",
    "    plt.show()"
   ]
  },
  {
   "cell_type": "markdown",
   "metadata": {},
   "source": [
    "## 10. Save Enhanced Dataset"
   ]
  },
  {
   "cell_type": "code",
   "execution_count": null,
   "metadata": {},
   "outputs": [],
   "source": [
    "# Save dataset with OCEAN features\n",
    "output_path = '../artifacts/results/data_with_ocean_simple.csv'\n",
    "df.to_csv(output_path, index=False)\n",
    "print(f\"Enhanced dataset saved to {output_path}\")\n",
    "print(f\"Shape: {df.shape}\")\n",
    "print(f\"New OCEAN columns: {OCEAN_DIMS}\")"
   ]
  },
  {
   "cell_type": "markdown",
   "metadata": {},
   "source": [
    "## Summary\n",
    "\n",
    "**What We Did**:\n",
    "1. ✅ Used **existing categorical features** (no free text needed)\n",
    "2. ✅ Built structured borrower profiles (term, grade, purpose, etc.)\n",
    "3. ✅ Generated OCEAN scores for 5k borrowers (with caching)\n",
    "4. ✅ Visualized distributions and relationships\n",
    "\n",
    "**Key Advantages**:\n",
    "- No dependency on missing `desc` field\n",
    "- Uses data already in baseline models\n",
    "- Can run offline (deterministic fallback)\n",
    "- Easy to extend with more categorical features\n",
    "\n",
    "**Next Steps**:\n",
    "1. Run A/B comparison (Baseline vs Baseline+OCEAN)\n",
    "2. Check if OCEAN improves ROC-AUC/PR-AUC\n",
    "3. If promising, enable API mode for real LLM scoring"
   ]
  }
 ],
 "metadata": {
  "kernelspec": {
   "display_name": "Python 3",
   "language": "python",
   "name": "python3"
  },
  "language_info": {
   "name": "python",
   "version": "3.11.0"
  }
 },
 "nbformat": 4,
 "nbformat_minor": 2
}
