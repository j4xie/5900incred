{
 "cells": [
  {
   "cell_type": "code",
   "execution_count": 1,
   "id": "7a7e6e1b",
   "metadata": {},
   "outputs": [
    {
     "name": "stderr",
     "output_type": "stream",
     "text": [
      "/opt/anaconda3/envs/ml311/lib/python3.11/site-packages/tqdm/auto.py:21: TqdmWarning: IProgress not found. Please update jupyter and ipywidgets. See https://ipywidgets.readthedocs.io/en/stable/user_install.html\n",
      "  from .autonotebook import tqdm as notebook_tqdm\n"
     ]
    }
   ],
   "source": [
    "import pandas as pd\n",
    "import numpy as np\n",
    "import joblib\n",
    "import gc\n",
    "import kagglehub\n",
    "\n",
    "from sklearn.model_selection import train_test_split\n",
    "from sklearn.preprocessing import OneHotEncoder, StandardScaler\n",
    "from sklearn.impute import SimpleImputer\n",
    "from sklearn.compose import ColumnTransformer\n",
    "from sklearn.pipeline import Pipeline\n",
    "from sklearn.linear_model import LogisticRegression\n",
    "from sklearn.metrics import (\n",
    "    roc_auc_score, average_precision_score,\n",
    "    classification_report, confusion_matrix\n",
    ")\n",
    "import os"
   ]
  },
  {
   "cell_type": "code",
   "execution_count": 2,
   "id": "928c61b2",
   "metadata": {},
   "outputs": [
    {
     "name": "stdout",
     "output_type": "stream",
     "text": [
      "/Users/abao/.cache/kagglehub/datasets/ethon0426/lending-club-20072020q1/versions/3\n"
     ]
    }
   ],
   "source": [
    "path = kagglehub.dataset_download(\"ethon0426/lending-club-20072020q1\")\n",
    "print(path)\n",
    "\n",
    "file_path = path + \"/Loan_status_2007-2020Q3.gzip\"\n",
    "\n",
    "ROW_LIMIT = 10000   # Change this parameter to control the input number of rows\n",
    "\n",
    "read_kwargs = dict(low_memory=False, compression=\"infer\")\n",
    "if ROW_LIMIT is not None:\n",
    "    read_kwargs[\"nrows\"] = ROW_LIMIT\n",
    "\n",
    "df = pd.read_csv(file_path, **read_kwargs)\n",
    "# print(df.shape)\n",
    "# print(df.head())"
   ]
  },
  {
   "cell_type": "code",
   "execution_count": null,
   "id": "c74878e0",
   "metadata": {},
   "outputs": [],
   "source": [
    "TARGET_COL = \"loan_status\"\n",
    "\n",
    "df = df[df[TARGET_COL].isin([\"Fully Paid\", \"Charged Off\"])].copy()\n",
    "df[\"target\"] = (df[TARGET_COL] == \"Charged Off\").astype(int)\n",
    "df.drop(columns=[TARGET_COL], inplace=True)"
   ]
  },
  {
   "cell_type": "code",
   "execution_count": 4,
   "id": "b8b2aedc",
   "metadata": {},
   "outputs": [],
   "source": [
    "numeric_features = [\n",
    "    \"loan_amnt\", \"int_rate\", \"installment\", \"annual_inc\", \"dti\",\n",
    "    \"inq_last_6mths\", \"open_acc\", \"pub_rec\", \"revol_bal\", \"revol_util\",\n",
    "    \"total_acc\"\n",
    "]\n",
    "categorical_features = [\n",
    "    \"term\", \"grade\", \"sub_grade\", \"emp_length\", \"home_ownership\",\n",
    "    \"verification_status\", \"purpose\", \"application_type\"\n",
    "]\n",
    "\n",
    "numeric_features = [c for c in numeric_features if c in df.columns]\n",
    "categorical_features = [c for c in categorical_features if c in df.columns]\n",
    "\n",
    "for col in [\"int_rate\", \"revol_util\"]:\n",
    "    if col in df.columns and df[col].dtype == object:\n",
    "        df[col] = pd.to_numeric(df[col].astype(str).str.rstrip(\"%\"), errors=\"coerce\")\n"
   ]
  },
  {
   "cell_type": "code",
   "execution_count": null,
   "id": "f407e553",
   "metadata": {},
   "outputs": [
    {
     "name": "stdout",
     "output_type": "stream",
     "text": [
      "\n",
      "=== Metrics ===\n",
      "ROC-AUC:  0.7195771093531593\n",
      "PR-AUC:   0.31650533173247436\n",
      "Confusion Matrix:\n",
      " [[1109  577]\n",
      " [ 110  204]]\n",
      "\n",
      "Classification Report:\n",
      "               precision    recall  f1-score   support\n",
      "\n",
      "           0     0.9098    0.6578    0.7635      1686\n",
      "           1     0.2612    0.6497    0.3726       314\n",
      "\n",
      "    accuracy                         0.6565      2000\n",
      "   macro avg     0.5855    0.6537    0.5681      2000\n",
      "weighted avg     0.8079    0.6565    0.7021      2000\n",
      "\n"
     ]
    }
   ],
   "source": [
    "numeric_features = [\n",
    "    \"loan_amnt\", \"int_rate\", \"installment\", \"annual_inc\", \"dti\",\n",
    "    \"inq_last_6mths\", \"open_acc\", \"pub_rec\", \"revol_bal\", \"revol_util\",\n",
    "    \"total_acc\"\n",
    "]\n",
    "categorical_features = [\n",
    "    \"term\", \"grade\", \"sub_grade\", \"emp_length\", \"home_ownership\",\n",
    "    \"verification_status\", \"purpose\", \"application_type\"\n",
    "]\n",
    "\n",
    "numeric_features = [c for c in numeric_features if c in df.columns]\n",
    "categorical_features = [c for c in categorical_features if c in df.columns]\n",
    "\n",
    "for col in [\"int_rate\", \"revol_util\"]:\n",
    "    if col in df.columns and df[col].dtype == object:\n",
    "        df[col] = pd.to_numeric(df[col].astype(str).str.rstrip(\"%\"), errors=\"coerce\")\n",
    "\n",
    "X = df[numeric_features + categorical_features].copy()\n",
    "y = df[\"target\"].values\n",
    "del df\n",
    "gc.collect()\n",
    "\n",
    "X_train, X_test, y_train, y_test = train_test_split(\n",
    "    X, y, test_size=0.2, random_state=42, stratify=y\n",
    ")\n",
    "\n",
    "numeric_transformer = Pipeline(steps=[\n",
    "    (\"imputer\", SimpleImputer(strategy=\"median\")),\n",
    "    (\"scaler\", StandardScaler())\n",
    "])\n",
    "\n",
    "categorical_transformer = Pipeline(steps=[\n",
    "    (\"imputer\", SimpleImputer(strategy=\"most_frequent\")),\n",
    "    (\"onehot\", OneHotEncoder(handle_unknown=\"ignore\", sparse_output=False))\n",
    "])\n",
    "\n",
    "preprocess = ColumnTransformer(\n",
    "    transformers=[\n",
    "        (\"num\", numeric_transformer, numeric_features),\n",
    "        (\"cat\", categorical_transformer, categorical_features),\n",
    "    ],\n",
    "    remainder=\"drop\"\n",
    ")\n",
    "\n",
    "log_reg = LogisticRegression(\n",
    "    solver=\"lbfgs\",\n",
    "    max_iter=500,\n",
    "    class_weight=\"balanced\" \n",
    ")\n",
    "\n",
    "model = Pipeline(steps=[\n",
    "    (\"preprocess\", preprocess),\n",
    "    (\"clf\", log_reg)\n",
    "])\n",
    "\n",
    "model.fit(X_train, y_train)\n",
    "\n",
    "proba = model.predict_proba(X_test)[:, 1]\n",
    "pred  = (proba >= 0.5).astype(int)\n",
    "\n",
    "print(\"\\n=== Metrics ===\")\n",
    "print(\"ROC-AUC: \", roc_auc_score(y_test, proba))\n",
    "print(\"PR-AUC:  \", average_precision_score(y_test, proba))\n",
    "print(\"Confusion Matrix:\\n\", confusion_matrix(y_test, pred))\n",
    "print(\"\\nClassification Report:\\n\", classification_report(y_test, pred, digits=4))\n",
    "\n",
    "\n",
    "# os.makedirs(\"artifacts\", exist_ok=True)\n",
    "# joblib.dump(model, \"artifacts/logreg_lendingclub.joblib\")\n",
    "# print(\"\\nModel saved at: artifacts/logreg_lendingclub.joblib\")"
   ]
  },
  {
   "cell_type": "code",
   "execution_count": null,
   "id": "a0e5e946",
   "metadata": {},
   "outputs": [],
   "source": []
  }
 ],
 "metadata": {
  "kernelspec": {
   "display_name": "ml311",
   "language": "python",
   "name": "python3"
  },
  "language_info": {
   "codemirror_mode": {
    "name": "ipython",
    "version": 3
   },
   "file_extension": ".py",
   "mimetype": "text/x-python",
   "name": "python",
   "nbconvert_exporter": "python",
   "pygments_lexer": "ipython3",
   "version": "3.11.13"
  }
 },
 "nbformat": 4,
 "nbformat_minor": 5
}
