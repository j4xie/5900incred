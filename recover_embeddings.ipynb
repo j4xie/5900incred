{
 "cells": [
  {
   "cell_type": "markdown",
   "metadata": {},
   "source": [
    "# 恢复已提取的1498个BGE Embeddings\n",
    "\n",
    "这个notebook用来检查和恢复你已经提取的1498个embeddings数据"
   ]
  },
  {
   "cell_type": "code",
   "execution_count": null,
   "metadata": {},
   "outputs": [],
   "source": [
    "import numpy as np\n",
    "import os\n",
    "from datetime import datetime\n",
    "\n",
    "print(\"Libraries loaded successfully\")"
   ]
  },
  {
   "cell_type": "markdown",
   "metadata": {},
   "source": [
    "## Step 1: 检查temp文件"
   ]
  },
  {
   "cell_type": "code",
   "execution_count": null,
   "metadata": {},
   "outputs": [],
   "source": [
    "temp_file = 'bge_embeddings_2k_llama.npy.temp.npy'\n",
    "\n",
    "print(\"=\"*80)\n",
    "print(\"检查临时文件\")\n",
    "print(\"=\"*80)\n",
    "\n",
    "if not os.path.exists(temp_file):\n",
    "    print(f\"✗ 文件不存在: {temp_file}\")\n",
    "else:\n",
    "    print(f\"✓ 文件存在: {temp_file}\")\n",
    "    print(f\"  文件大小: {os.path.getsize(temp_file) / 1024 / 1024:.2f} MB\")\n",
    "    print(f\"  修改时间: {datetime.fromtimestamp(os.path.getmtime(temp_file))}\")"
   ]
  },
  {
   "cell_type": "markdown",
   "metadata": {},
   "source": [
    "## Step 2: 加载并分析数据"
   ]
  },
  {
   "cell_type": "code",
   "execution_count": null,
   "metadata": {},
   "outputs": [],
   "source": [
    "print(\"正在加载embeddings...\")\n",
    "embeddings = np.load(temp_file)\n",
    "\n",
    "print(f\"\\n✓ Embeddings加载成功!\")\n",
    "print(f\"  Shape: {embeddings.shape}\")\n",
    "print(f\"  数据类型: {embeddings.dtype}\")\n",
    "print(f\"  内存占用: {embeddings.nbytes / 1024 / 1024:.2f} MB\")"
   ]
  },
  {
   "cell_type": "code",
   "execution_count": null,
   "metadata": {},
   "outputs": [],
   "source": [
    "# 检查有效数据\n",
    "print(\"\\n分析数据质量...\")\n",
    "vector_norms = np.linalg.norm(embeddings, axis=1)\n",
    "valid_count = np.sum(vector_norms > 0.01)  # 非零向量\n",
    "invalid_count = len(embeddings) - valid_count\n",
    "\n",
    "print(f\"  总样本数: {len(embeddings)}\")\n",
    "print(f\"  ✓ 有效向量: {valid_count} ({valid_count/len(embeddings)*100:.1f}%)\")\n",
    "print(f\"  ✗ 零向量: {invalid_count} ({invalid_count/len(embeddings)*100:.1f}%)\")\n",
    "\n",
    "print(f\"\\n向量范数统计:\")\n",
    "print(f\"  最小值: {vector_norms.min():.4f}\")\n",
    "print(f\"  最大值: {vector_norms.max():.4f}\")\n",
    "print(f\"  平均值: {vector_norms.mean():.4f}\")\n",
    "print(f\"  标准差: {vector_norms.std():.4f}\")"
   ]
  },
  {
   "cell_type": "code",
   "execution_count": null,
   "metadata": {},
   "outputs": [],
   "source": [
    "# 显示样本详情\n",
    "print(\"\\n前20个样本检查:\")\n",
    "for i in range(min(20, len(embeddings))):\n",
    "    norm = vector_norms[i]\n",
    "    status = \"✓\" if norm > 0.01 else \"✗\"\n",
    "    print(f\"  {status} 样本 {i:4d}: norm={norm:8.4f}\")\n",
    "\n",
    "if len(embeddings) > 20:\n",
    "    print(f\"\\n最后20个样本检查:\")\n",
    "    for i in range(max(0, len(embeddings)-20), len(embeddings)):\n",
    "        norm = vector_norms[i]\n",
    "        status = \"✓\" if norm > 0.01 else \"✗\"\n",
    "        print(f\"  {status} 样本 {i:4d}: norm={norm:8.4f}\")"
   ]
  },
  {
   "cell_type": "markdown",
   "metadata": {},
   "source": [
    "## Step 3: 找出连续有效数据的范围"
   ]
  },
  {
   "cell_type": "code",
   "execution_count": null,
   "metadata": {},
   "outputs": [],
   "source": [
    "# 找到第一个零向量的位置\n",
    "is_valid = vector_norms > 0.01\n",
    "\n",
    "# 找到连续有效数据的长度\n",
    "consecutive_valid = 0\n",
    "for i, valid in enumerate(is_valid):\n",
    "    if valid:\n",
    "        consecutive_valid = i + 1\n",
    "    else:\n",
    "        break\n",
    "\n",
    "print(\"=\"*80)\n",
    "print(\"数据完整性分析\")\n",
    "print(\"=\"*80)\n",
    "print(f\"\\n连续有效数据: 前 {consecutive_valid} 个样本\")\n",
    "print(f\"总有效数据: {valid_count} 个样本\")\n",
    "\n",
    "if consecutive_valid < valid_count:\n",
    "    print(f\"\\n⚠️  警告: 数据中间有空洞（零向量）\")\n",
    "    print(f\"   建议使用前 {consecutive_valid} 个连续数据\")\n",
    "else:\n",
    "    print(f\"\\n✓ 数据连续，无空洞\")"
   ]
  },
  {
   "cell_type": "markdown",
   "metadata": {},
   "source": [
    "## Step 4: 保存恢复的数据"
   ]
  },
  {
   "cell_type": "code",
   "execution_count": null,
   "metadata": {},
   "outputs": [],
   "source": [
    "# 保存有效的embeddings\n",
    "if consecutive_valid > 0:\n",
    "    recovered_embeddings = embeddings[:consecutive_valid]\n",
    "    \n",
    "    output_file = f'bge_embeddings_{consecutive_valid}_recovered.npy'\n",
    "    np.save(output_file, recovered_embeddings)\n",
    "    \n",
    "    print(\"=\"*80)\n",
    "    print(\"保存恢复的数据\")\n",
    "    print(\"=\"*80)\n",
    "    print(f\"\\n✓ 已保存 {consecutive_valid} 个有效embeddings\")\n",
    "    print(f\"  输出文件: {output_file}\")\n",
    "    print(f\"  Shape: {recovered_embeddings.shape}\")\n",
    "    print(f\"  文件大小: {os.path.getsize(output_file) / 1024 / 1024:.2f} MB\")\n",
    "    \n",
    "    print(f\"\\n下一步操作:\")\n",
    "    print(f\"  1. 你已经有了 {consecutive_valid} 个样本的embeddings ✓\")\n",
    "    print(f\"  2. 如果需要2000个样本，还需提取 {2000 - consecutive_valid} 个\")\n",
    "    print(f\"  3. 可以修改提取脚本，从第 {consecutive_valid} 个样本开始继续提取\")\n",
    "else:\n",
    "    print(\"\\n✗ 没有找到有效数据，无法恢复\")"
   ]
  },
  {
   "cell_type": "markdown",
   "metadata": {},
   "source": [
    "## 总结\n",
    "\n",
    "运行完成后：\n",
    "- 你的1498个embeddings数据已经安全保存 ✓\n",
    "- 文件名: `bge_embeddings_XXXX_recovered.npy`\n",
    "- 如需继续提取剩余样本，从saved位置开始即可"
   ]
  }
 ],
 "metadata": {
  "kernelspec": {
   "display_name": "Python 3",
   "language": "python",
   "name": "python3"
  },
  "language_info": {
   "name": "python",
   "version": "3.8.0"
  }
 },
 "nbformat": 4,
 "nbformat_minor": 4
}
